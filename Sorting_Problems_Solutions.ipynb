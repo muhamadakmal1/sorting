{
 "cells": [
  {
   "cell_type": "markdown",
   "id": "a737a7cd",
   "metadata": {},
   "source": [
    "### Problem 1: Find the element appearing maximum number of times"
   ]
  },
  {
   "cell_type": "code",
   "execution_count": null,
   "id": "e412f7c8",
   "metadata": {},
   "outputs": [],
   "source": [
    "from collections import Counter\n",
    "\n",
    "def max_frequency_element(arr):\n",
    "    counter = Counter(arr)\n",
    "    return max(counter, key=counter.get)\n"
   ]
  },
  {
   "cell_type": "markdown",
   "id": "d02dd176",
   "metadata": {},
   "source": [
    "### Problem 2: Find the missing number from 1 to n"
   ]
  },
  {
   "cell_type": "code",
   "execution_count": null,
   "id": "639f4a09",
   "metadata": {},
   "outputs": [],
   "source": [
    "def find_missing_number(arr, n):\n",
    "    total = n * (n + 1) // 2\n",
    "    return total - sum(arr)\n"
   ]
  },
  {
   "cell_type": "markdown",
   "id": "38160764",
   "metadata": {},
   "source": [
    "### Problem 3: Find the number occurring odd number of times"
   ]
  },
  {
   "cell_type": "code",
   "execution_count": null,
   "id": "dfa3cd62",
   "metadata": {},
   "outputs": [],
   "source": [
    "def find_odd_occurrence(arr):\n",
    "    result = 0\n",
    "    for num in arr:\n",
    "        result ^= num\n",
    "    return result\n"
   ]
  },
  {
   "cell_type": "markdown",
   "id": "1df73b6b",
   "metadata": {},
   "source": [
    "### Problem 4: Find two elements whose sum is K"
   ]
  },
  {
   "cell_type": "code",
   "execution_count": null,
   "id": "08e1a59a",
   "metadata": {},
   "outputs": [],
   "source": [
    "def find_pair_with_sum(arr, k):\n",
    "    seen = set()\n",
    "    for num in arr:\n",
    "        if k - num in seen:\n",
    "            return num, k - num\n",
    "        seen.add(num)\n"
   ]
  },
  {
   "cell_type": "markdown",
   "id": "c43eee8a",
   "metadata": {},
   "source": [
    "### Problem 5: Find two numbers whose sum is closest to 0"
   ]
  },
  {
   "cell_type": "code",
   "execution_count": null,
   "id": "db9c3f26",
   "metadata": {},
   "outputs": [],
   "source": [
    "def closest_to_zero_pair(arr):\n",
    "    arr.sort()\n",
    "    left, right = 0, len(arr) - 1\n",
    "    closest = float('inf')\n",
    "    result = (0, 0)\n",
    "    while left < right:\n",
    "        total = arr[left] + arr[right]\n",
    "        if abs(total) < abs(closest):\n",
    "            closest = total\n",
    "            result = (arr[left], arr[right])\n",
    "        if total < 0:\n",
    "            left += 1\n",
    "        else:\n",
    "            right -= 1\n",
    "    return result\n"
   ]
  },
  {
   "cell_type": "markdown",
   "id": "45b71c2f",
   "metadata": {},
   "source": [
    "### Problem 6: Find three elements whose sum is K"
   ]
  },
  {
   "cell_type": "code",
   "execution_count": null,
   "id": "8f228690",
   "metadata": {},
   "outputs": [],
   "source": [
    "def three_sum(arr, k):\n",
    "    arr.sort()\n",
    "    for i in range(len(arr) - 2):\n",
    "        left, right = i + 1, len(arr) - 1\n",
    "        while left < right:\n",
    "            total = arr[i] + arr[left] + arr[right]\n",
    "            if total == k:\n",
    "                return arr[i], arr[left], arr[right]\n",
    "            elif total < k:\n",
    "                left += 1\n",
    "            else:\n",
    "                right -= 1\n"
   ]
  },
  {
   "cell_type": "markdown",
   "id": "776e1985",
   "metadata": {},
   "source": [
    "### Problem 7: Find i, j, k such that i² + j² = k²"
   ]
  },
  {
   "cell_type": "code",
   "execution_count": null,
   "id": "452f9974",
   "metadata": {},
   "outputs": [],
   "source": [
    "def find_pythagorean_triplet(arr):\n",
    "    squares = set(x * x for x in arr)\n",
    "    n = len(arr)\n",
    "    for i in range(n):\n",
    "        for j in range(i + 1, n):\n",
    "            if arr[i]*arr[i] + arr[j]*arr[j] in squares:\n",
    "                return arr[i], arr[j], int((arr[i]*arr[i] + arr[j]*arr[j])**0.5)\n"
   ]
  },
  {
   "cell_type": "markdown",
   "id": "3225446f",
   "metadata": {},
   "source": [
    "### Problem 8: Find majority element (appears > n/2 times)"
   ]
  },
  {
   "cell_type": "code",
   "execution_count": null,
   "id": "44428191",
   "metadata": {},
   "outputs": [],
   "source": [
    "def majority_element(arr):\n",
    "    count = candidate = 0\n",
    "    for num in arr:\n",
    "        if count == 0:\n",
    "            candidate = num\n",
    "        count += 1 if num == candidate else -1\n",
    "    if arr.count(candidate) > len(arr) // 2:\n",
    "        return candidate\n",
    "    return None\n"
   ]
  },
  {
   "cell_type": "markdown",
   "id": "c8929403",
   "metadata": {},
   "source": [
    "### Problem 9: Find row with maximum 0’s in n x n matrix"
   ]
  },
  {
   "cell_type": "code",
   "execution_count": null,
   "id": "88450229",
   "metadata": {},
   "outputs": [],
   "source": [
    "def row_with_max_zeros(matrix):\n",
    "    max_row_index = -1\n",
    "    j = len(matrix[0]) - 1\n",
    "    for i in range(len(matrix)):\n",
    "        while j >= 0 and matrix[i][j] == 0:\n",
    "            j -= 1\n",
    "            max_row_index = i\n",
    "    return max_row_index\n"
   ]
  },
  {
   "cell_type": "markdown",
   "id": "3fd8dc4a",
   "metadata": {},
   "source": [
    "### Problem 10: Sort array of 0’s, 1’s, and 2’s"
   ]
  },
  {
   "cell_type": "code",
   "execution_count": null,
   "id": "3fe6fdd0",
   "metadata": {},
   "outputs": [],
   "source": [
    "def dutch_national_flag(arr):\n",
    "    low = mid = 0\n",
    "    high = len(arr) - 1\n",
    "    while mid <= high:\n",
    "        if arr[mid] == 0:\n",
    "            arr[low], arr[mid] = arr[mid], arr[low]\n",
    "            low += 1\n",
    "            mid += 1\n",
    "        elif arr[mid] == 1:\n",
    "            mid += 1\n",
    "        else:\n",
    "            arr[mid], arr[high] = arr[high], arr[mid]\n",
    "            high -= 1\n",
    "    return arr\n"
   ]
  }
 ],
 "metadata": {},
 "nbformat": 4,
 "nbformat_minor": 5
}